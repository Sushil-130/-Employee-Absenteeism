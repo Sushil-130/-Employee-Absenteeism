{
 "cells": [
  {
   "cell_type": "code",
   "execution_count": 1,
   "metadata": {
    "collapsed": true
   },
   "outputs": [],
   "source": [
    "import pickle\n",
    "import numpy as np"
   ]
  },
  {
   "cell_type": "code",
   "execution_count": 2,
   "metadata": {
    "collapsed": true
   },
   "outputs": [],
   "source": [
    "class LogisticRegression:\n",
    "    def __init__(self, lr=0.01, num_iter=100000, fit_intercept=True, verbose=False):\n",
    "        self.lr = lr\n",
    "        self.num_iter = num_iter\n",
    "        self.fit_intercept = fit_intercept\n",
    "        self.verbose = verbose\n",
    "        self.losshistory = []\n",
    "    \n",
    "    def __add_intercept(self, X):\n",
    "        intercept = np.ones((X.shape[0], 1))\n",
    "        return np.concatenate((intercept, X), axis=1)\n",
    "    \n",
    "    def __sigmoid(self, z):\n",
    "        return 1 / (1 + np.exp(-z))\n",
    "    def __loss(self, h, y):\n",
    "        return (-y * np.log(h) - (1 - y) * np.log(1 - h)).mean()\n",
    "    \n",
    "    def fit(self, X, y):\n",
    "        if self.fit_intercept:\n",
    "            X = self.__add_intercept(X)\n",
    "        \n",
    "        # weights initialization\n",
    "        self.theta = np.zeros(X.shape[1])\n",
    "        \n",
    "        for i in range(self.num_iter):\n",
    "            z = np.dot(X, self.theta)\n",
    "            h = self.__sigmoid(z)\n",
    "            gradient = np.dot(X.T, (h - y)) / y.size\n",
    "            self.theta -= self.lr * gradient\n",
    "            \n",
    "            if(self.verbose == True and i % 10000 == 0):\n",
    "                z = np.dot(X, self.theta)\n",
    "                h = self.__sigmoid(z)\n",
    "\n",
    "                loss = self.__loss(h,y)\n",
    "                self.losshistory.append(loss)\n",
    "                print(\"iteration: \",i,\" loss value: \",loss)\n",
    "    \n",
    "    def predict_prob(self, X):\n",
    "        if self.fit_intercept:\n",
    "            X = self.__add_intercept(X)\n",
    "    \n",
    "        return self.__sigmoid(np.dot(X, self.theta))\n",
    "    \n",
    "    def predict(self, X, threshold=0.5):\n",
    "        return self.predict_prob(X) >= threshold"
   ]
  },
  {
   "cell_type": "code",
   "execution_count": 3,
   "metadata": {
    "collapsed": true
   },
   "outputs": [],
   "source": [
    "scaler = pickle.load(open(\"scaler.scaler\", \"rb\"))"
   ]
  },
  {
   "cell_type": "code",
   "execution_count": 4,
   "metadata": {},
   "outputs": [],
   "source": [
    "classifier = pickle.load(open(\"classifier.model\", \"rb\"))"
   ]
  },
  {
   "cell_type": "code",
   "execution_count": 5,
   "metadata": {},
   "outputs": [
    {
     "data": {
      "text/plain": [
       "StandardScaler(copy=True, with_mean=True, with_std=True)"
      ]
     },
     "execution_count": 5,
     "metadata": {},
     "output_type": "execute_result"
    }
   ],
   "source": [
    "scaler"
   ]
  },
  {
   "cell_type": "code",
   "execution_count": 6,
   "metadata": {},
   "outputs": [],
   "source": [
    "X = np.array([1, 0, 1, 0, 6, 6, 155, 12, 34, 239.554, 25, 0, 2, 0])"
   ]
  },
  {
   "cell_type": "code",
   "execution_count": 7,
   "metadata": {},
   "outputs": [
    {
     "data": {
      "text/plain": [
       "(14,)"
      ]
     },
     "execution_count": 7,
     "metadata": {},
     "output_type": "execute_result"
    }
   ],
   "source": [
    "X.shape"
   ]
  },
  {
   "cell_type": "code",
   "execution_count": 8,
   "metadata": {},
   "outputs": [],
   "source": [
    "# X = X.reshape(-1, 1)"
   ]
  },
  {
   "cell_type": "code",
   "execution_count": 9,
   "metadata": {},
   "outputs": [],
   "source": [
    "\n",
    "\n",
    "\n",
    "# for i in range(4):\n",
    "#     inputs[i] = X[i]\n",
    "\n",
    "# inputs[11] = X[11]\n",
    "\n",
    "\n",
    "# input\n",
    "# classifier.predict(scaler.transform(X[:,:-5]))"
   ]
  },
  {
   "cell_type": "code",
   "execution_count": 10,
   "metadata": {},
   "outputs": [
    {
     "data": {
      "text/plain": [
       "array([[-0.26861125,  2.03929783, -1.01632169, -1.20947798, -0.37918794,\n",
       "        -0.80633129, -0.40857982,  0.88046927, -0.58968976]])"
      ]
     },
     "execution_count": 10,
     "metadata": {},
     "output_type": "execute_result"
    }
   ],
   "source": [
    "scaleinput = []\n",
    "\n",
    "for i in range(14):\n",
    "    if i in [0,1,2,3] or i == 11:\n",
    "        continue\n",
    "        \n",
    "    scaleinput.append(X[i])\n",
    "\n",
    "scaleinput\n",
    "\n",
    "\n",
    "        \n",
    "scaledvalues = scaler.transform([scaleinput])\n",
    "scaledvalues"
   ]
  },
  {
   "cell_type": "code",
   "execution_count": 11,
   "metadata": {},
   "outputs": [
    {
     "data": {
      "text/plain": [
       "(14,)"
      ]
     },
     "execution_count": 11,
     "metadata": {},
     "output_type": "execute_result"
    }
   ],
   "source": [
    "scaleinput = []\n",
    "\n",
    "for i in range(14):\n",
    "    if i in [0,1,2,3] or i == 11:\n",
    "        continue\n",
    "        \n",
    "    scaleinput.append(X[i])\n",
    "\n",
    "\n",
    "inputs = np.zeros(14)\n",
    "\n",
    "\n",
    "for i in range(4):\n",
    "    inputs[i] = X[i]\n",
    "\n",
    "inputs[11] = X[11]\n",
    "\n",
    "inputs[4] = scaleinput[0]\n",
    "inputs[5] = scaleinput[1]\n",
    "inputs[6] = scaleinput[2]\n",
    "inputs[7] = scaleinput[3]\n",
    "inputs[8] = scaleinput[4]\n",
    "inputs[9] = scaleinput[5]\n",
    "inputs[10] = scaleinput[6]\n",
    "inputs[12] = scaleinput[7]\n",
    "inputs[13] = scaleinput[8]\n",
    "\n",
    "\n",
    "inputs.shape"
   ]
  },
  {
   "cell_type": "code",
   "execution_count": 12,
   "metadata": {},
   "outputs": [
    {
     "data": {
      "text/plain": [
       "(1, 14)"
      ]
     },
     "execution_count": 12,
     "metadata": {},
     "output_type": "execute_result"
    }
   ],
   "source": [
    "inputs.reshape(1,-1).shape"
   ]
  },
  {
   "cell_type": "code",
   "execution_count": 13,
   "metadata": {},
   "outputs": [
    {
     "data": {
      "text/plain": [
       "array([ True], dtype=bool)"
      ]
     },
     "execution_count": 13,
     "metadata": {},
     "output_type": "execute_result"
    }
   ],
   "source": [
    "classifier.predict(inputs.reshape(1,-1))"
   ]
  },
  {
   "cell_type": "code",
   "execution_count": 14,
   "metadata": {
    "collapsed": true
   },
   "outputs": [],
   "source": [
    "from flask import Flask, jsonify, render_template, request"
   ]
  },
  {
   "cell_type": "code",
   "execution_count": 15,
   "metadata": {},
   "outputs": [],
   "source": [
    "app = Flask(__name__)"
   ]
  },
  {
   "cell_type": "code",
   "execution_count": 16,
   "metadata": {},
   "outputs": [],
   "source": [
    "@app.route(\"/\", methods = [\"GET\"])\n",
    "def index():\n",
    "    return render_template(\"index.html\")"
   ]
  },
  {
   "cell_type": "code",
   "execution_count": null,
   "metadata": {},
   "outputs": [],
   "source": [
    "@app.route(\"/predict\", methods = [\"POST\"])\n",
    "def predict():\n",
    "    default_value = 0\n",
    "    reason1 = request.form.get(\"reason1\", default_value) # dummy\n",
    "    reason2 = request.form.get(\"reason2\", default_value) # dummy\n",
    "    reason3 = request.form.get(\"reason3\", default_value) # dummy\n",
    "    reason4 = request.form.get(\"reason4\", default_value) #dummy\n",
    "    monthvalue = request.form.get(\"monthvalue\", default_value)\n",
    "    day = request.form.get(\"day\", default_value)\n",
    "    transportation = request.form.get(\"transportation\", default_value)\n",
    "    distancetowork = request.form.get(\"distancetowork\", default_value)\n",
    "    age = request.form.get(\"age\", default_value)\n",
    "    dailywork = request.form.get(\"dailywork\", default_value)\n",
    "    bmi = request.form.get(\"bmi\", default_value)\n",
    "    education = request.form.get(\"education\", default_value) # dummy\n",
    "    children = request.form.get(\"children\", default_value) \n",
    "    pet = request.form.get(\"pet\", default_value)\n",
    "    \n",
    "    scaledvalues = scaler.transform([monthvalue, day, transportation, distancetowork, age, dailywork, bmi, children, pet])\n",
    "    \n",
    "    print(\"Scaled values : \",scaledvalues)\n",
    "    \n",
    "    inputs = np.zeros(14)\n",
    "\n",
    "    inputs[0] = reason1\n",
    "    inputs[1] = reason2\n",
    "    inputs[2] = reason3\n",
    "    inputs[3] = reason4\n",
    "    \n",
    "    inputs[11] = education\n",
    "\n",
    "    inputs[4] = scaledvalues[0]\n",
    "    inputs[5] = scaledvalues[1]\n",
    "    inputs[6] = scaledvalues[2]\n",
    "    inputs[7] = scaledvalues[3]\n",
    "    inputs[8] = scaledvalues[4]\n",
    "    inputs[9] = scaledvalues[5]\n",
    "    inputs[10] = scaledvalues[6]\n",
    "    inputs[12] = scaledvalues[7]\n",
    "    inputs[13] = scaledvalues[8]\n",
    "    \n",
    "    print(\"Processed Input : \", inputs)\n",
    "    \n",
    "    prediction = classifier.predict(inputs.reshape(1,-1))\n",
    "    print(prediction)\n",
    "    return render_template('result.html', result= \"true\" if prediction else \"false\" )\n",
    "#     return jsonify({\n",
    "#             \"result\": \"true\" if prediction else \"false\"\n",
    "#         })"
   ]
  },
  {
   "cell_type": "code",
   "execution_count": null,
   "metadata": {
    "scrolled": true
   },
   "outputs": [
    {
     "name": "stderr",
     "output_type": "stream",
     "text": [
      " * Running on http://0.0.0.0:9000/ (Press CTRL+C to quit)\n",
      "127.0.0.1 - - [16/Jul/2019 19:00:58] \"GET / HTTP/1.1\" 200 -\n",
      "127.0.0.1 - - [16/Jul/2019 19:00:58] \"GET /favicon.ico HTTP/1.1\" 404 -\n",
      "C:\\Users\\dahal\\Anaconda3\\lib\\site-packages\\sklearn\\preprocessing\\data.py:646: DeprecationWarning: Passing 1d arrays as data is deprecated in 0.17 and will raise ValueError in 0.19. Reshape your data either using X.reshape(-1, 1) if your data has a single feature or X.reshape(1, -1) if it contains a single sample.\n",
      "  warnings.warn(DEPRECATION_MSG_1D, DeprecationWarning)\n",
      "127.0.0.1 - - [16/Jul/2019 19:02:01] \"POST /predict HTTP/1.1\" 200 -\n"
     ]
    },
    {
     "name": "stdout",
     "output_type": "stream",
     "text": [
      "Scaled values :  [ 0.03079619 -0.23290031  0.34184954  0.61560256 -1.79105795 -0.67015817\n",
      "  3.11945319 -0.91902997  1.12666297]\n",
      "Processed Input :  [ 0.          0.          0.          1.          0.03079619 -0.23290031\n",
      "  0.34184954  0.61560256 -1.79105795 -0.67015817  3.11945319  1.\n",
      " -0.91902997  1.12666297]\n",
      "[False]\n"
     ]
    }
   ],
   "source": [
    "if __name__ == '__main__':\n",
    "    app.run(host='0.0.0.0', port=9000)"
   ]
  },
  {
   "cell_type": "code",
   "execution_count": null,
   "metadata": {
    "collapsed": true
   },
   "outputs": [],
   "source": []
  }
 ],
 "metadata": {
  "anaconda-cloud": {},
  "kernelspec": {
   "display_name": "Python 3",
   "language": "python",
   "name": "python3"
  },
  "language_info": {
   "codemirror_mode": {
    "name": "ipython",
    "version": 3
   },
   "file_extension": ".py",
   "mimetype": "text/x-python",
   "name": "python",
   "nbconvert_exporter": "python",
   "pygments_lexer": "ipython3",
   "version": "3.7.3"
  }
 },
 "nbformat": 4,
 "nbformat_minor": 1
}
